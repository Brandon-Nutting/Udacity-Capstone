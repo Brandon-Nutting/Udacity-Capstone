{
 "cells": [
  {
   "attachments": {},
   "cell_type": "markdown",
   "metadata": {},
   "source": [
    "# Sparkify Project Workspace\n",
    "This workspace contains a tiny subset (128MB) of the full dataset available (12GB). Feel free to use this workspace to build your project, or to explore a smaller subset with Spark before deploying your cluster on the cloud. Instructions for setting up your Spark cluster is included in the last lesson of the Extracurricular Spark Course content.\n",
    "\n",
    "You can follow the steps below to guide your data analysis and model building portion of this project."
   ]
  },
  {
   "cell_type": "code",
   "execution_count": 49,
   "metadata": {},
   "outputs": [],
   "source": [
    "# import libraries\n",
    "from pyspark.sql import SparkSession, Window\n",
    "from pyspark.sql.functions import udf, desc, col, avg, count, date_format\n",
    "from pyspark.sql.types import IntegerType, DateType, DoubleType\n",
    "from pyspark.sql.functions import sum as Fsum\n",
    "from pyspark.sql import functions as F\n",
    "import datetime\n",
    "import matplotlib.pyplot as plt\n",
    "from pyspark.ml.feature import CountVectorizer, IDF, Normalizer, PCA, RegexTokenizer, StandardScaler,MinMaxScaler, StopWordsRemover, StringIndexer, VectorAssembler\n",
    "from pyspark.ml.classification import LogisticRegression, RandomForestClassifier\n",
    "from pyspark.ml.evaluation import MulticlassClassificationEvaluator\n",
    "from pyspark.ml.tuning import CrossValidator, ParamGridBuilder\n",
    "from pyspark.mllib.evaluation import MulticlassMetrics\n",
    "from pyspark.ml import Pipeline\n"
   ]
  },
  {
   "cell_type": "code",
   "execution_count": 2,
   "metadata": {},
   "outputs": [],
   "source": [
    "# create a Spark session\n",
    "spark = SparkSession.builder \\\n",
    "    .master(\"local\") \\\n",
    "    .appName(\"Churn Model - Udacity\") \\\n",
    "    .getOrCreate()"
   ]
  },
  {
   "attachments": {},
   "cell_type": "markdown",
   "metadata": {},
   "source": [
    "# Load and Clean Dataset\n",
    "In this workspace, the mini-dataset file is `mini_sparkify_event_data.json`. Load and clean the dataset, checking for invalid or missing data - for example, records without userids or sessionids. "
   ]
  },
  {
   "cell_type": "code",
   "execution_count": 3,
   "metadata": {},
   "outputs": [
    {
     "data": {
      "text/plain": [
       "286500"
      ]
     },
     "execution_count": 3,
     "metadata": {},
     "output_type": "execute_result"
    }
   ],
   "source": [
    "data = 'mini_sparkify_event_data.json'\n",
    "\n",
    "df = spark.read.json(data)\n",
    "\n",
    "df.count()"
   ]
  },
  {
   "cell_type": "code",
   "execution_count": 4,
   "metadata": {},
   "outputs": [
    {
     "name": "stdout",
     "output_type": "stream",
     "text": [
      "root\n",
      " |-- artist: string (nullable = true)\n",
      " |-- auth: string (nullable = true)\n",
      " |-- firstName: string (nullable = true)\n",
      " |-- gender: string (nullable = true)\n",
      " |-- itemInSession: long (nullable = true)\n",
      " |-- lastName: string (nullable = true)\n",
      " |-- length: double (nullable = true)\n",
      " |-- level: string (nullable = true)\n",
      " |-- location: string (nullable = true)\n",
      " |-- method: string (nullable = true)\n",
      " |-- page: string (nullable = true)\n",
      " |-- registration: long (nullable = true)\n",
      " |-- sessionId: long (nullable = true)\n",
      " |-- song: string (nullable = true)\n",
      " |-- status: long (nullable = true)\n",
      " |-- ts: long (nullable = true)\n",
      " |-- userAgent: string (nullable = true)\n",
      " |-- userId: string (nullable = true)\n",
      "\n"
     ]
    }
   ],
   "source": [
    "# What fields are we working with?\n",
    "df.printSchema()"
   ]
  },
  {
   "cell_type": "code",
   "execution_count": 5,
   "metadata": {},
   "outputs": [],
   "source": [
    "# Put a method here that determines if there is missing data."
   ]
  },
  {
   "cell_type": "code",
   "execution_count": 6,
   "metadata": {},
   "outputs": [
    {
     "data": {
      "text/plain": [
       "228108"
      ]
     },
     "execution_count": 6,
     "metadata": {},
     "output_type": "execute_result"
    }
   ],
   "source": [
    "# How many missing values do we have?\n",
    "missing_value_counter = df.dropna(how = \"any\")\n",
    "\n",
    "missing_value_counter.count()\n",
    "\n",
    "# So we have 286500 - 228108 missing values."
   ]
  },
  {
   "cell_type": "code",
   "execution_count": 7,
   "metadata": {},
   "outputs": [
    {
     "data": {
      "text/plain": [
       "286500"
      ]
     },
     "execution_count": 7,
     "metadata": {},
     "output_type": "execute_result"
    }
   ],
   "source": [
    "# How many missing value in userId or sessionId\n",
    "missing_value_counter = df.dropna(how = \"any\", subset = ['userId','sessionId'])\n",
    "\n",
    "missing_value_counter.count()\n",
    "\n",
    "# No missing values when only looking at userId and sessionId."
   ]
  },
  {
   "cell_type": "code",
   "execution_count": 8,
   "metadata": {},
   "outputs": [
    {
     "data": {
      "text/plain": [
       "8346"
      ]
     },
     "execution_count": 8,
     "metadata": {},
     "output_type": "execute_result"
    }
   ],
   "source": [
    "# Are there any empty string values in the dataset?\n",
    "\n",
    "empty_value_counter = df.filter(df.userId == '')\n",
    "\n",
    "empty_value_counter.count()"
   ]
  },
  {
   "cell_type": "code",
   "execution_count": 9,
   "metadata": {},
   "outputs": [
    {
     "data": {
      "text/plain": [
       "0"
      ]
     },
     "execution_count": 9,
     "metadata": {},
     "output_type": "execute_result"
    }
   ],
   "source": [
    "# Are there any empty string values in the dataset for sessionId?\n",
    "empty_value_counter = df.filter(df.sessionId == '')\n",
    "\n",
    "empty_value_counter.count()"
   ]
  },
  {
   "cell_type": "code",
   "execution_count": 10,
   "metadata": {},
   "outputs": [],
   "source": [
    "# Remove the 8346 entries with no userId\n",
    "\n",
    "df = df.filter(df.userId != '')"
   ]
  },
  {
   "cell_type": "code",
   "execution_count": 11,
   "metadata": {},
   "outputs": [
    {
     "data": {
      "text/plain": [
       "0"
      ]
     },
     "execution_count": 11,
     "metadata": {},
     "output_type": "execute_result"
    }
   ],
   "source": [
    "# Verify removal of null values worked.\n",
    "empty_value_counter = df.filter(df.userId == '')\n",
    "\n",
    "# Looks like everything worked as expected.\n",
    "empty_value_counter.count()"
   ]
  },
  {
   "attachments": {},
   "cell_type": "markdown",
   "metadata": {},
   "source": [
    "# Exploratory Data Analysis\n",
    "When you're working with the full dataset, perform EDA by loading a small subset of the data and doing basic manipulations within Spark. In this workspace, you are already provided a small subset of data you can explore.\n",
    "\n",
    "### Define Churn\n",
    "\n",
    "Once you've done some preliminary analysis, create a column `Churn` to use as the label for your model. I suggest using the `Cancellation Confirmation` events to define your churn, which happen for both paid and free users. As a bonus task, you can also look into the `Downgrade` events.\n",
    "\n",
    "### Explore Data\n",
    "Once you've defined churn, perform some exploratory data analysis to observe the behavior for users who stayed vs users who churned. You can start by exploring aggregates on these two groups of users, observing how much of a specific action they experienced per a certain time unit or number of songs played."
   ]
  },
  {
   "cell_type": "code",
   "execution_count": 12,
   "metadata": {},
   "outputs": [
    {
     "data": {
      "text/plain": [
       "[Row(Page='Cancel'),\n",
       " Row(Page='Submit Downgrade'),\n",
       " Row(Page='Thumbs Down'),\n",
       " Row(Page='Home'),\n",
       " Row(Page='Downgrade'),\n",
       " Row(Page='Roll Advert'),\n",
       " Row(Page='Logout'),\n",
       " Row(Page='Save Settings'),\n",
       " Row(Page='Cancellation Confirmation'),\n",
       " Row(Page='About'),\n",
       " Row(Page='Settings'),\n",
       " Row(Page='Add to Playlist'),\n",
       " Row(Page='Add Friend'),\n",
       " Row(Page='NextSong'),\n",
       " Row(Page='Thumbs Up'),\n",
       " Row(Page='Help'),\n",
       " Row(Page='Upgrade'),\n",
       " Row(Page='Error'),\n",
       " Row(Page='Submit Upgrade')]"
      ]
     },
     "execution_count": 12,
     "metadata": {},
     "output_type": "execute_result"
    }
   ],
   "source": [
    "# Preliminary Analysis\n",
    "\n",
    "# Lets look at all possible values for column: Page\n",
    "df.select('Page').distinct().collect()"
   ]
  },
  {
   "cell_type": "code",
   "execution_count": 13,
   "metadata": {},
   "outputs": [],
   "source": [
    "# Our definition of churn will be when the user finalizes their cancelation.\n",
    "flag_cancellation_event = udf(lambda x: 1 if x == \"Cancellation Confirmation\" else 0, IntegerType())\n",
    "df = df.withColumn(\"churned\", flag_cancellation_event(\"page\"))\n",
    "\n",
    "# Distinguish data as pre or post cancellation\n",
    "windowval = Window.partitionBy(\"userId\").orderBy(desc(\"ts\")).rangeBetween(Window.unboundedPreceding, 0)\n",
    "df = df.withColumn(\"phase\", Fsum(\"churned\").over(windowval))\n"
   ]
  },
  {
   "cell_type": "code",
   "execution_count": 14,
   "metadata": {},
   "outputs": [
    {
     "data": {
      "text/plain": [
       "52"
      ]
     },
     "execution_count": 14,
     "metadata": {},
     "output_type": "execute_result"
    }
   ],
   "source": [
    "# How many users actually churned?\n",
    "churn_counter = df.filter(df.churned == 1)\n",
    "\n",
    "# Looks like only 52 users churned\n",
    "churn_counter.count()"
   ]
  },
  {
   "cell_type": "code",
   "execution_count": 15,
   "metadata": {},
   "outputs": [
    {
     "name": "stdout",
     "output_type": "stream",
     "text": [
      "+------+-------+------+\n",
      "|gender|churned| count|\n",
      "+------+-------+------+\n",
      "|     M|      1|    32|\n",
      "|     F|      0|154558|\n",
      "|     F|      1|    20|\n",
      "|     M|      0|123544|\n",
      "+------+-------+------+\n",
      "\n"
     ]
    }
   ],
   "source": [
    "# Can we gain anything by looking at the gender of those 52 users who churned?\n",
    "gender_churn_count = df.groupBy('gender', 'churned').count()\n",
    "\n",
    "gender_churn_count.show()"
   ]
  },
  {
   "cell_type": "code",
   "execution_count": 16,
   "metadata": {
    "scrolled": true
   },
   "outputs": [
    {
     "data": {
      "image/png": "[encoded data removed]",
      "text/plain": [
       "<matplotlib.figure.Figure at 0x7feeae4bec18>"
      ]
     },
     "metadata": {
      "needs_background": "light"
     },
     "output_type": "display_data"
    }
   ],
   "source": [
    "# Filter the DataFrame to get only the churned users\n",
    "churned_users = gender_churn_count.filter(gender_churn_count['churned'] == '1')\n",
    "\n",
    "# Extract the counts for male and female churned users\n",
    "male_churn_count = churned_users.filter(churned_users['gender'] == 'M').select('count').collect()[0][0]\n",
    "female_churn_count = churned_users.filter(churned_users['gender'] == 'F').select('count').collect()[0][0]\n",
    "\n",
    "# Create a bar plot\n",
    "plt.bar(['Male', 'Female'], [male_churn_count, female_churn_count])\n",
    "plt.xlabel('Gender')\n",
    "plt.ylabel('Count')\n",
    "plt.title('Churned Users by Gender')\n",
    "plt.show()"
   ]
  },
  {
   "cell_type": "code",
   "execution_count": 17,
   "metadata": {},
   "outputs": [],
   "source": [
    "# Create some UDF functions for later use. \n",
    "get_day = udf(lambda x: datetime.datetime.fromtimestamp(x/1000), DateType())\n",
    "get_hour = udf(lambda x: datetime.datetime.fromtimestamp(x / 1000.0). hour)\n",
    "song=udf(lambda x : int(x=='NextSong'), IntegerType())"
   ]
  },
  {
   "cell_type": "code",
   "execution_count": 18,
   "metadata": {},
   "outputs": [
    {
     "name": "stdout",
     "output_type": "stream",
     "text": [
      "+------------------+\n",
      "|   avg(songPlayed)|\n",
      "+------------------+\n",
      "|0.8112072039942939|\n",
      "+------------------+\n",
      "\n",
      "+------------------+\n",
      "|   avg(songPlayed)|\n",
      "+------------------+\n",
      "|0.8217840456084702|\n",
      "+------------------+\n",
      "\n"
     ]
    }
   ],
   "source": [
    "# Lets look at songs per day.\n",
    "df = df.withColumn('date', get_day(col('ts')))\n",
    "df.filter(col('phase')==1).withColumn('songPlayed', song(col('page'))).agg({'songPlayed':'mean'}).show()\n",
    "df.filter(col('phase')==0).withColumn('songPlayed', song(col('page'))).agg({'songPlayed':'mean'}).show()"
   ]
  },
  {
   "cell_type": "code",
   "execution_count": 19,
   "metadata": {},
   "outputs": [
    {
     "name": "stdout",
     "output_type": "stream",
     "text": [
      "+----+-----+\n",
      "|hour|count|\n",
      "+----+-----+\n",
      "|   0|    3|\n",
      "|   1|    1|\n",
      "|   2|    1|\n",
      "|   3|    2|\n",
      "|   4|    2|\n",
      "|   5|    1|\n",
      "|   7|    6|\n",
      "|   8|    1|\n",
      "|  10|    1|\n",
      "|  11|    2|\n",
      "|  12|    2|\n",
      "|  13|    1|\n",
      "|  14|    1|\n",
      "|  15|    4|\n",
      "|  16|    4|\n",
      "|  17|    2|\n",
      "|  18|    3|\n",
      "|  19|    5|\n",
      "|  20|    3|\n",
      "|  21|    3|\n",
      "+----+-----+\n",
      "only showing top 20 rows\n",
      "\n"
     ]
    },
    {
     "data": {
      "image/png": "[encoded data removed]",
      "text/plain": [
       "<matplotlib.figure.Figure at 0x7feeab5a22b0>"
      ]
     },
     "metadata": {
      "needs_background": "light"
     },
     "output_type": "display_data"
    }
   ],
   "source": [
    "# Lets look at cancellations per hour\n",
    "df = df.withColumn(\"hour\", get_hour(df.ts))\n",
    "cancels_per_hour = df.filter(df.page == \"Cancellation Confirmation\").groupby(df.hour).count().orderBy(df.hour.cast(\"float\"))\n",
    "cancels_per_hour.show()\n",
    "\n",
    "# grab hours and counts\n",
    "hours = [row['hour'] for row in cancels_per_hour.collect()]\n",
    "hours = [int(x) for x in hours]\n",
    "counts = [row['count'] for row in cancels_per_hour.collect()]\n",
    "counts = [int(x) for x in counts]\n",
    "\n",
    "# Create a bar plot\n",
    "plt.figure(figsize=(5, 5))\n",
    "plt.bar(hours, counts)\n",
    "plt.xlabel('Hour')\n",
    "plt.ylabel('Number of cancellations')\n",
    "plt.title('Cancellations by hour')\n",
    "plt.show()"
   ]
  },
  {
   "cell_type": "code",
   "execution_count": 20,
   "metadata": {},
   "outputs": [
    {
     "name": "stdout",
     "output_type": "stream",
     "text": [
      "31\n",
      "21\n"
     ]
    }
   ],
   "source": [
    "# Lets look at distribution of paid and free users who churned\n",
    "print(df.filter((df.page == 'Cancellation Confirmation') & (df.level == 'paid')).count())\n",
    "\n",
    "print(df.filter((df.page == 'Cancellation Confirmation') & (df.level == 'free')).count())"
   ]
  },
  {
   "cell_type": "code",
   "execution_count": 21,
   "metadata": {},
   "outputs": [
    {
     "name": "stdout",
     "output_type": "stream",
     "text": [
      "+----------+-------+-----+\n",
      "|      date|churned|count|\n",
      "+----------+-------+-----+\n",
      "|2018-10-01|      0| 3358|\n",
      "|2018-10-22|      0| 3987|\n",
      "|2018-10-04|      0| 3706|\n",
      "|2018-10-29|      0| 4796|\n",
      "|2018-10-15|      0| 4198|\n",
      "|2018-11-11|      0| 2284|\n",
      "|2018-10-02|      0| 3526|\n",
      "|2018-12-03|      0|    1|\n",
      "|2018-10-13|      0| 2423|\n",
      "|2018-11-19|      0| 3835|\n",
      "|2018-11-24|      0| 2113|\n",
      "|2018-10-30|      0| 5405|\n",
      "|2018-10-11|      0| 4565|\n",
      "|2018-10-10|      0| 5101|\n",
      "|2018-10-14|      0| 2130|\n",
      "|2018-10-27|      0| 2909|\n",
      "|2018-11-21|      0| 5198|\n",
      "|2018-10-21|      0| 2553|\n",
      "|2018-10-26|      0| 3495|\n",
      "|2018-11-22|      0| 2590|\n",
      "+----------+-------+-----+\n",
      "only showing top 20 rows\n",
      "\n"
     ]
    }
   ],
   "source": [
    "# Group by 'date', 'churn', and 'page' columns and calculate the count of 'page'\n",
    "songs_played_per_day = df.filter(df['page'] == 'NextSong').groupBy('date', 'churned').count()\n",
    "\n",
    "# Display the result\n",
    "songs_played_per_day.show()"
   ]
  },
  {
   "cell_type": "code",
   "execution_count": 22,
   "metadata": {},
   "outputs": [
    {
     "name": "stdout",
     "output_type": "stream",
     "text": [
      "+----------+-------+-----+\n",
      "|      date|churned|count|\n",
      "+----------+-------+-----+\n",
      "|2018-10-01|      0|  870|\n",
      "|2018-10-22|      0|  559|\n",
      "|2018-10-04|      0| 1157|\n",
      "|2018-10-29|      0|  747|\n",
      "|2018-10-15|      0| 1444|\n",
      "|2018-11-11|      0|  352|\n",
      "|2018-10-02|      0| 1431|\n",
      "|2018-10-13|      0|  981|\n",
      "|2018-11-19|      0|   86|\n",
      "|2018-11-24|      0|   99|\n",
      "|2018-10-30|      0| 1046|\n",
      "|2018-10-11|      0| 2047|\n",
      "|2018-10-10|      0| 1397|\n",
      "|2018-10-14|      0|  481|\n",
      "|2018-10-27|      0|  265|\n",
      "|2018-10-21|      0|  317|\n",
      "|2018-10-26|      0|  833|\n",
      "|2018-10-25|      0|  558|\n",
      "|2018-10-18|      0| 1060|\n",
      "|2018-11-15|      0|  349|\n",
      "+----------+-------+-----+\n",
      "only showing top 20 rows\n",
      "\n"
     ]
    }
   ],
   "source": [
    "# How many songs played per day?\n",
    "\n",
    "# Group by 'date', 'churn', and 'page' columns and calculate the count of 'page'\n",
    "songs_played_per_day = df.filter((df['page'] == 'NextSong') & (df['phase'] == '1')).groupBy('date', 'churned').count()\n",
    "\n",
    "# Display the result\n",
    "songs_played_per_day.show()"
   ]
  },
  {
   "cell_type": "code",
   "execution_count": 23,
   "metadata": {},
   "outputs": [
    {
     "data": {
      "text/plain": [
       "239"
      ]
     },
     "execution_count": 23,
     "metadata": {},
     "output_type": "execute_result"
    }
   ],
   "source": [
    "# How many times did users who churned visit the help page\n",
    "churned_help_count = df.filter((df['page'] == 'Help') & (df['phase'] == '1')).count()\n",
    "\n",
    "# So the 52 churnes users visited the help page 239 times.\n",
    "churned_help_count"
   ]
  },
  {
   "cell_type": "code",
   "execution_count": 24,
   "metadata": {},
   "outputs": [
    {
     "data": {
      "text/plain": [
       "1215"
      ]
     },
     "execution_count": 24,
     "metadata": {},
     "output_type": "execute_result"
    }
   ],
   "source": [
    "# How many users actually churned?\n",
    "Non_churned_help_counter = df.filter((df.phase == 0) & (df['page'] == 'Help')).count()\n",
    "\n",
    "# Compared to 1215 help page visits by non-churned users.\n",
    "Non_churned_help_counter"
   ]
  },
  {
   "cell_type": "code",
   "execution_count": 25,
   "metadata": {},
   "outputs": [
    {
     "data": {
      "text/plain": [
       "967"
      ]
     },
     "execution_count": 25,
     "metadata": {},
     "output_type": "execute_result"
    }
   ],
   "source": [
    "# How many times did churned users see and advertisement. \n",
    "churned_ad_count = df.filter((df['page'] == 'Roll Advert') & (df['phase'] == '1')).count()\n",
    "\n",
    "# So the 52 churnes users saw 967 ads.\n",
    "churned_ad_count"
   ]
  },
  {
   "cell_type": "code",
   "execution_count": 26,
   "metadata": {},
   "outputs": [
    {
     "data": {
      "text/plain": [
       "2966"
      ]
     },
     "execution_count": 26,
     "metadata": {},
     "output_type": "execute_result"
    }
   ],
   "source": [
    "# How many times did churned users see and advertisement. \n",
    "non_churned_ad_count = df.filter((df['page'] == 'Roll Advert') & (df['phase'] == '0')).count()\n",
    "\n",
    "# Compared to 2966 ads seen by the non-churned users.\n",
    "non_churned_ad_count"
   ]
  },
  {
   "attachments": {},
   "cell_type": "markdown",
   "metadata": {},
   "source": [
    "# Feature Engineering\n",
    "Once you've familiarized yourself with the data, build out the features you find promising to train your model on. To work with the full dataset, you can follow the following steps.\n",
    "- Write a script to extract the necessary features from the smaller subset of data\n",
    "- Ensure that your script is scalable, using the best practices discussed in Lesson 3\n",
    "- Try your script on the full data set, debugging your script if necessary\n",
    "\n",
    "If you are working in the classroom workspace, you can just extract features based on the small subset of data contained here. Be sure to transfer over this work to the larger dataset when you work on your Spark cluster."
   ]
  },
  {
   "cell_type": "code",
   "execution_count": 27,
   "metadata": {},
   "outputs": [
    {
     "name": "stdout",
     "output_type": "stream",
     "text": [
      "+------+------------------+\n",
      "|userId| Thumbs Up Per Day|\n",
      "+------+------------------+\n",
      "|200002|               3.0|\n",
      "|100010|2.8333333333333335|\n",
      "|    51| 8.333333333333334|\n",
      "|   124| 5.896551724137931|\n",
      "|     7|              1.75|\n",
      "|    15|               5.4|\n",
      "|    54| 6.037037037037037|\n",
      "|   155| 8.285714285714286|\n",
      "|   132| 5.333333333333333|\n",
      "|100014|               3.4|\n",
      "|   154|3.6666666666666665|\n",
      "|    11| 2.857142857142857|\n",
      "|   101| 7.818181818181818|\n",
      "|300017| 7.046511627906977|\n",
      "|   138|            5.9375|\n",
      "|    29|              6.16|\n",
      "|    69|               6.0|\n",
      "|100021|              2.75|\n",
      "|    42| 4.256410256410256|\n",
      "|   112|               1.5|\n",
      "+------+------------------+\n",
      "only showing top 20 rows\n",
      "\n",
      "None\n"
     ]
    }
   ],
   "source": [
    "thumbs_up_per_day = df.filter(df.page == \"Thumbs Up\")\\\n",
    ".select('userId','page','ts')\\\n",
    ".withColumn('date',get_day(col('ts')))\\\n",
    ".groupBy('userId','date').agg(count(col(\"page\")))\\\n",
    ".groupBy('userId').agg(avg(col('count(page)')))\\\n",
    ".withColumnRenamed('avg(count(page))', 'Thumbs Up Per Day')\n",
    "\n",
    "print(thumbs_up_per_day.show())"
   ]
  },
  {
   "cell_type": "code",
   "execution_count": 28,
   "metadata": {},
   "outputs": [
    {
     "name": "stdout",
     "output_type": "stream",
     "text": [
      "+------+-------------------+\n",
      "|userId|Thumbs Down Per Day|\n",
      "+------+-------------------+\n",
      "|100010|               1.25|\n",
      "|200002|                3.0|\n",
      "|   124| 1.8636363636363635|\n",
      "|    51|                2.1|\n",
      "|     7|                1.0|\n",
      "|    15|                1.4|\n",
      "|    54| 1.5263157894736843|\n",
      "|   155|                1.0|\n",
      "|   132|                1.7|\n",
      "|100014|                1.0|\n",
      "|    11| 1.2857142857142858|\n",
      "|   101| 2.2857142857142856|\n",
      "|300017| 1.6470588235294117|\n",
      "|   138| 2.6666666666666665|\n",
      "|    29| 1.4666666666666666|\n",
      "|    69|                1.5|\n",
      "|100021| 1.6666666666666667|\n",
      "|    42| 1.1904761904761905|\n",
      "|   112|                1.5|\n",
      "|    87|                1.0|\n",
      "+------+-------------------+\n",
      "only showing top 20 rows\n",
      "\n",
      "None\n"
     ]
    }
   ],
   "source": [
    "thumbs_down_per_day = df.filter(df.page == \"Thumbs Down\")\\\n",
    ".select('userId','page','ts')\\\n",
    ".withColumn('date',get_day(col('ts')))\\\n",
    ".groupBy('userId','date').agg(count(col(\"page\")))\\\n",
    ".groupBy('userId').agg(avg(col('count(page)')))\\\n",
    ".withColumnRenamed('avg(count(page))', 'Thumbs Down Per Day')\n",
    "\n",
    "print(thumbs_down_per_day.show())"
   ]
  },
  {
   "cell_type": "code",
   "execution_count": 29,
   "metadata": {},
   "outputs": [
    {
     "name": "stdout",
     "output_type": "stream",
     "text": [
      "+------+------------------+\n",
      "|userId|    Errors Per Day|\n",
      "+------+------------------+\n",
      "|   124|               1.2|\n",
      "|     7|               1.0|\n",
      "|    51|               1.0|\n",
      "|    15|               1.0|\n",
      "|    54|               1.0|\n",
      "|   155|               1.0|\n",
      "|   132|               1.0|\n",
      "|   101|               1.5|\n",
      "|    11|               1.0|\n",
      "|300017|              1.25|\n",
      "|   138|               1.0|\n",
      "|    69|1.3333333333333333|\n",
      "|100021|               1.0|\n",
      "|    42|               1.0|\n",
      "|    73|               1.0|\n",
      "|200010|               1.0|\n",
      "|   113|               1.0|\n",
      "|    30|               1.0|\n",
      "|    59|               2.0|\n",
      "|   139|               1.0|\n",
      "+------+------------------+\n",
      "only showing top 20 rows\n",
      "\n",
      "None\n"
     ]
    }
   ],
   "source": [
    "errors_per_day = df.filter(df.page == \"Error\")\\\n",
    ".select('userId','page','ts')\\\n",
    ".withColumn('date',get_day(col('ts')))\\\n",
    ".groupBy('userId','date').agg(count(col(\"page\")))\\\n",
    ".groupBy('userId').agg(avg(col('count(page)')))\\\n",
    ".withColumnRenamed('avg(count(page))', 'Errors Per Day')\n",
    "\n",
    "print(errors_per_day.show())"
   ]
  },
  {
   "cell_type": "code",
   "execution_count": 30,
   "metadata": {},
   "outputs": [
    {
     "name": "stdout",
     "output_type": "stream",
     "text": [
      "+------+-------------------+\n",
      "|userId|Help Visits Per Day|\n",
      "+------+-------------------+\n",
      "|100010|                1.0|\n",
      "|200002|                1.0|\n",
      "|   124|             1.4375|\n",
      "|     7|                1.0|\n",
      "|    51| 1.7142857142857142|\n",
      "|    54| 1.1333333333333333|\n",
      "|    15| 1.1428571428571428|\n",
      "|   155|                1.8|\n",
      "|   132| 1.7777777777777777|\n",
      "|100014|                1.0|\n",
      "|   154|                1.0|\n",
      "|   101| 1.7142857142857142|\n",
      "|    11|                1.5|\n",
      "|300017|               1.35|\n",
      "|   138| 1.8571428571428572|\n",
      "|    29| 1.5555555555555556|\n",
      "|    69| 2.3333333333333335|\n",
      "|    42| 1.1764705882352942|\n",
      "|   112|                1.0|\n",
      "|    87|                1.6|\n",
      "+------+-------------------+\n",
      "only showing top 20 rows\n",
      "\n",
      "None\n"
     ]
    }
   ],
   "source": [
    "help_visits_per_day = df.filter(df.page == \"Help\")\\\n",
    ".select('userId','page','ts')\\\n",
    ".withColumn('date',get_day(col('ts')))\\\n",
    ".groupBy('userId','date').agg(count(col(\"page\")))\\\n",
    ".groupBy('userId').agg(avg(col('count(page)')))\\\n",
    ".withColumnRenamed('avg(count(page))', 'Help Visits Per Day')\n",
    "\n",
    "print(help_visits_per_day.show())"
   ]
  },
  {
   "cell_type": "code",
   "execution_count": 31,
   "metadata": {},
   "outputs": [
    {
     "name": "stdout",
     "output_type": "stream",
     "text": [
      "+------+-----------------+\n",
      "|userId|Number Of Friends|\n",
      "+------+-----------------+\n",
      "|100010|                4|\n",
      "|200002|                4|\n",
      "|    51|               28|\n",
      "|   124|               74|\n",
      "|     7|                1|\n",
      "|    54|               33|\n",
      "|    15|               31|\n",
      "|   155|               11|\n",
      "|   132|               41|\n",
      "|   154|                3|\n",
      "|100014|                6|\n",
      "|   101|               29|\n",
      "|    11|                6|\n",
      "|   138|               41|\n",
      "|300017|               63|\n",
      "|    29|               47|\n",
      "|    69|               12|\n",
      "|100021|                7|\n",
      "|    42|               52|\n",
      "|   112|                7|\n",
      "+------+-----------------+\n",
      "only showing top 20 rows\n",
      "\n",
      "None\n"
     ]
    }
   ],
   "source": [
    "number_of_friends = df.filter(df.page == \"Add Friend\")\\\n",
    ".select('userId','page')\\\n",
    ".groupBy('userId')\\\n",
    ".agg(count(col('page')))\\\n",
    ".withColumnRenamed('count(page)', 'Number Of Friends')\n",
    "\n",
    "print(number_of_friends.show())"
   ]
  },
  {
   "cell_type": "code",
   "execution_count": 32,
   "metadata": {},
   "outputs": [],
   "source": [
    "free_users = udf(lambda x: 1 if x == \"free\" else 0, IntegerType())\n",
    "paid_users = udf(lambda x: 1 if x == \"paid\" else 0, IntegerType())\n",
    "visit_home = udf(lambda x: 1 if x == \"Home\" else 0, IntegerType())\n",
    "error_occured = udf(lambda x: 1 if x == \"Error\" else 0, IntegerType())\n",
    "help_needed = udf(lambda x: 1 if x == \"Help\" else 0, IntegerType())"
   ]
  },
  {
   "cell_type": "code",
   "execution_count": 33,
   "metadata": {},
   "outputs": [
    {
     "name": "stdout",
     "output_type": "stream",
     "text": [
      "+------+---------+---------+\n",
      "|userId|free user|paid user|\n",
      "+------+---------+---------+\n",
      "|100021|        1|        0|\n",
      "|200021|        1|        0|\n",
      "|200001|        1|        0|\n",
      "|     6|        1|        0|\n",
      "|300022|        0|        1|\n",
      "|   132|        1|        0|\n",
      "|   112|        1|        0|\n",
      "|    79|        1|        0|\n",
      "|200008|        1|        0|\n",
      "|    16|        0|        1|\n",
      "|200007|        0|        1|\n",
      "|300015|        1|        0|\n",
      "|    39|        1|        0|\n",
      "|300014|        0|        1|\n",
      "|    61|        1|        0|\n",
      "|    56|        0|        1|\n",
      "|300014|        1|        0|\n",
      "|   100|        0|        1|\n",
      "|300024|        0|        1|\n",
      "|300023|        0|        1|\n",
      "+------+---------+---------+\n",
      "only showing top 20 rows\n",
      "\n"
     ]
    }
   ],
   "source": [
    "user_level = df.select('userId','level')\\\n",
    ".drop_duplicates()\\\n",
    ".withColumn('free user', free_users('level'))\\\n",
    ".withColumn('paid user', paid_users('level'))\\\n",
    ".drop('level')\n",
    "\n",
    "user_level.show()"
   ]
  },
  {
   "cell_type": "code",
   "execution_count": 34,
   "metadata": {},
   "outputs": [
    {
     "name": "stdout",
     "output_type": "stream",
     "text": [
      "+------+----------------------------+\n",
      "|userID|Avg Songs Played Before Home|\n",
      "+------+----------------------------+\n",
      "|100010|          22.916666666666668|\n",
      "|200002|                       19.35|\n",
      "|   125|                         8.0|\n",
      "|   124|            24.4251497005988|\n",
      "|    51|          29.319444444444443|\n",
      "|     7|          13.636363636363637|\n",
      "|    15|          21.266666666666666|\n",
      "|    54|           24.92105263157895|\n",
      "|   155|          29.285714285714285|\n",
      "|100014|                      32.125|\n",
      "|   132|           24.71794871794872|\n",
      "|   154|                        14.0|\n",
      "|   101|          24.958333333333332|\n",
      "|    11|          17.486486486486488|\n",
      "|   138|          30.895522388059703|\n",
      "|300017|           24.54054054054054|\n",
      "|100021|                      14.375|\n",
      "|    29|          25.233333333333334|\n",
      "|    69|                     23.4375|\n",
      "|   112|           16.53846153846154|\n",
      "+------+----------------------------+\n",
      "only showing top 20 rows\n",
      "\n"
     ]
    }
   ],
   "source": [
    "# Average number of songs before user visits home\n",
    "\n",
    "play_sum = df.filter((df.page == 'Home') | (df.page == 'NextSong'))\\\n",
    ".select('userId','page','ts')\\\n",
    ".withColumn(\"visited home\", visit_home(col('page')))\\\n",
    ".withColumn(\"play period\", Fsum(\"visited home\").over(windowval))\n",
    "\n",
    "avg_song_until_home = play_sum.filter((play_sum.page == 'NextSong'))\\\n",
    ".groupBy('userID', 'play period')\\\n",
    ".agg(count(col('play period')))\\\n",
    ".groupBy('userID')\\\n",
    ".agg(avg(col('count(play period)')))\\\n",
    ".withColumnRenamed('avg(count(play period))', 'Avg Songs Played Before Home')\n",
    "\n",
    "\n",
    "avg_song_until_home.show()"
   ]
  },
  {
   "cell_type": "code",
   "execution_count": 35,
   "metadata": {},
   "outputs": [
    {
     "name": "stdout",
     "output_type": "stream",
     "text": [
      "+------+-----------------------------+\n",
      "|userID|Avg Songs Played Before Error|\n",
      "+------+-----------------------------+\n",
      "|100010|                        275.0|\n",
      "|200002|                        387.0|\n",
      "|   125|                          8.0|\n",
      "|   124|            582.7142857142857|\n",
      "|    51|                       1055.5|\n",
      "|     7|                         75.0|\n",
      "|    15|                        638.0|\n",
      "|    54|                       1420.5|\n",
      "|   155|                        205.0|\n",
      "|100014|                        257.0|\n",
      "|   132|                        482.0|\n",
      "|   154|                         84.0|\n",
      "|   101|                       449.25|\n",
      "|    11|                        323.5|\n",
      "|   138|                       1035.0|\n",
      "|300017|            605.3333333333334|\n",
      "|100021|            76.66666666666667|\n",
      "|    29|                       3028.0|\n",
      "|    69|                        225.0|\n",
      "|   112|                        215.0|\n",
      "+------+-----------------------------+\n",
      "only showing top 20 rows\n",
      "\n"
     ]
    }
   ],
   "source": [
    "# How many songs on average before error\n",
    "\n",
    "error_sum = df.filter((df.page == 'Error') | (df.page == 'NextSong'))\\\n",
    ".select('userId','page','ts')\\\n",
    ".withColumn(\"error experienced\", error_occured(col('page')))\\\n",
    ".withColumn(\"play period\", Fsum(\"error experienced\").over(windowval))\n",
    "\n",
    "avg_song_until_error = error_sum.filter(error_sum.page == 'NextSong')\\\n",
    ".groupBy('userID', 'play period')\\\n",
    ".agg(count(col('play period')))\\\n",
    ".groupBy('userID')\\\n",
    ".agg(avg(col('count(play period)')))\\\n",
    ".withColumnRenamed('avg(count(play period))', 'Avg Songs Played Before Error')\n",
    "\n",
    "avg_song_until_error.show()"
   ]
  },
  {
   "cell_type": "code",
   "execution_count": 36,
   "metadata": {},
   "outputs": [
    {
     "name": "stdout",
     "output_type": "stream",
     "text": [
      "+------+-----------------------------------+\n",
      "|userID|Avg Songs Played Before Help Needed|\n",
      "+------+-----------------------------------+\n",
      "|100010|                  91.66666666666667|\n",
      "|200002|                              129.0|\n",
      "|   125|                                8.0|\n",
      "|   124|                 169.95833333333334|\n",
      "|    51|                  162.3846153846154|\n",
      "|     7|                               75.0|\n",
      "|    15|                 212.66666666666666|\n",
      "|    54|                 157.83333333333334|\n",
      "|   155|                               82.0|\n",
      "|100014|                  85.66666666666667|\n",
      "|   132|                 113.41176470588235|\n",
      "|   154|                               42.0|\n",
      "|   101|                             149.75|\n",
      "|    11|                             161.75|\n",
      "|   138|                 159.23076923076923|\n",
      "|300017|                 129.71428571428572|\n",
      "|100021|                              230.0|\n",
      "|    29|                 104.41379310344827|\n",
      "|    69|                 160.71428571428572|\n",
      "|   112|                              107.5|\n",
      "+------+-----------------------------------+\n",
      "only showing top 20 rows\n",
      "\n"
     ]
    }
   ],
   "source": [
    "# How many songs on average before help\n",
    "\n",
    "help_sum = df.filter((df.page == 'Help') | (df.page == 'NextSong'))\\\n",
    ".select('userId','page','ts')\\\n",
    ".withColumn(\"help needed\", help_needed(col('page')))\\\n",
    ".withColumn(\"play period\", Fsum(\"help needed\").over(windowval))\n",
    "\n",
    "avg_song_until_help = help_sum.filter(help_sum.page == 'NextSong')\\\n",
    ".groupBy('userID', 'play period')\\\n",
    ".agg(count(col('play period')))\\\n",
    ".groupBy('userID')\\\n",
    ".agg(avg(col('count(play period)')))\\\n",
    ".withColumnRenamed('avg(count(play period))', 'Avg Songs Played Before Help Needed')\n",
    "\n",
    "avg_song_until_help.show()"
   ]
  },
  {
   "cell_type": "code",
   "execution_count": 37,
   "metadata": {},
   "outputs": [],
   "source": [
    "def generate_features(df):\n",
    "    '''\n",
    "    This method will handle the entire generation of the data set we \n",
    "    will use to feed our machine learning model. \n",
    "    \n",
    "    Parameters: \n",
    "        df : The inital dataset read in from 'mini_sparkify_event_data.json'\n",
    "    \n",
    "    Output: \n",
    "        df with the following fields:\n",
    "            - Average thumbs up per day\n",
    "            - Average thumbs down per day\n",
    "            - Average errors experienced per day\n",
    "            - Average help requests per day\n",
    "            - Whether the user has a paid account or free account\n",
    "            - How many friends the account has\n",
    "            - The average number of songs played before visiting home page.\n",
    "            - The average number of songs played before needing to visit help page.\n",
    "            - The average number of songs played before experiencing an error.\n",
    "    '''\n",
    "    \n",
    "    users = df.filter((df.userId != '')).select('userId').drop_duplicates()\n",
    "    \n",
    "    # Define Churn\n",
    "    flag_cancellation_event = udf(lambda x: 1 if x == \"Cancellation Confirmation\" else 0, IntegerType())\n",
    "    churned = df.withColumn(\"churned\", flag_cancellation_event(\"page\"))\\\n",
    "    .select(['userId', 'churned'])\\\n",
    "    .groupBy('userId').sum()\\\n",
    "    .withColumnRenamed('sum(churned)','churned')\n",
    "    \n",
    "    # Declare helper udf functions\n",
    "    free_users = udf(lambda x: 1 if x == \"free\" else 0, IntegerType())\n",
    "    paid_users = udf(lambda x: 1 if x == \"paid\" else 0, IntegerType())\n",
    "    visit_home = udf(lambda x: 1 if x == \"Home\" else 0, IntegerType())\n",
    "    error_occured = udf(lambda x: 1 if x == \"Error\" else 0, IntegerType())\n",
    "    help_needed = udf(lambda x: 1 if x == \"Help\" else 0, IntegerType())\n",
    "    \n",
    "    # Calculate average thumbs up per day.\n",
    "    thumbs_up_per_day = df.filter(df.page == \"Thumbs Up\")\\\n",
    "    .select('userId','page','ts')\\\n",
    "    .withColumn('date',get_day(col('ts')))\\\n",
    "    .groupBy('userId','date').agg(count(col(\"page\")))\\\n",
    "    .groupBy('userId').agg(avg(col('count(page)')))\\\n",
    "    .withColumnRenamed('avg(count(page))', 'Thumbs Up Per Day')\n",
    "    \n",
    "    # Find average thumbs down per day\n",
    "    thumbs_down_per_day = df.filter(df.page == \"Thumbs Down\")\\\n",
    "    .select('userId','page','ts')\\\n",
    "    .withColumn('date',get_day(col('ts')))\\\n",
    "    .groupBy('userId','date').agg(count(col(\"page\")))\\\n",
    "    .groupBy('userId').agg(avg(col('count(page)')))\\\n",
    "    .withColumnRenamed('avg(count(page))', 'Thumbs Down Per Day')\n",
    "    \n",
    "    # Find average errors experienced per day\n",
    "    errors_per_day = df.filter(df.page == \"Error\")\\\n",
    "    .select('userId','page','ts')\\\n",
    "    .withColumn('date',get_day(col('ts')))\\\n",
    "    .groupBy('userId','date').agg(count(col(\"page\")))\\\n",
    "    .groupBy('userId').agg(avg(col('count(page)')))\\\n",
    "    .withColumnRenamed('avg(count(page))', 'Errors Per Day')\n",
    "    \n",
    "    # Find average help visits per day\n",
    "    help_visits_per_day = df.filter(df.page == \"Help\")\\\n",
    "    .select('userId','page','ts')\\\n",
    "    .withColumn('date',get_day(col('ts')))\\\n",
    "    .groupBy('userId','date').agg(count(col(\"page\")))\\\n",
    "    .groupBy('userId').agg(avg(col('count(page)')))\\\n",
    "    .withColumnRenamed('avg(count(page))', 'Help Visits Per Day')\n",
    "    \n",
    "    # Find number of friends each user has\n",
    "    number_of_friends = df.filter(df.page == \"Add Friend\")\\\n",
    "    .select('userId','page')\\\n",
    "    .groupBy('userId')\\\n",
    "    .agg(count(col('page')))\\\n",
    "    .withColumnRenamed('count(page)', 'Number Of Friends')\n",
    "    \n",
    "    # Find the level (free vs paid) for each user\n",
    "    user_level = df.select('userId','level')\\\n",
    "    .drop_duplicates()\\\n",
    "    .withColumn('free user', free_users('level'))\\\n",
    "    .withColumn('paid user', paid_users('level'))\\\n",
    "    .drop('level')\n",
    "    \n",
    "    # Average number of songs played before user vistis home screen\n",
    "    \n",
    "    play_sum = df.filter((df.page == 'Home') | (df.page == 'NextSong'))\\\n",
    "    .select('userId','page','ts')\\\n",
    "    .withColumn(\"visited home\", visit_home(col('page')))\\\n",
    "    .withColumn(\"play period\", Fsum(\"visited home\").over(windowval))\n",
    "\n",
    "    avg_song_until_home = play_sum.filter((play_sum.page == 'NextSong'))\\\n",
    "    .groupBy('userID', 'play period')\\\n",
    "    .agg(count(col('play period')))\\\n",
    "    .groupBy('userID')\\\n",
    "    .agg(avg(col('count(play period)')))\\\n",
    "    .withColumnRenamed('avg(count(play period))', 'Avg Songs Played Before Home')\n",
    "\n",
    "    # Average number of songs played before user needs to visit help page\n",
    "    help_sum = df.filter((df.page == 'Help') | (df.page == 'NextSong'))\\\n",
    "    .select('userId','page','ts')\\\n",
    "    .withColumn(\"help needed\", help_needed(col('page')))\\\n",
    "    .withColumn(\"play period\", Fsum(\"help needed\").over(windowval))\n",
    "\n",
    "    avg_song_until_help = help_sum.filter(help_sum.page == 'NextSong')\\\n",
    "    .groupBy('userID', 'play period')\\\n",
    "    .agg(count(col('play period')))\\\n",
    "    .groupBy('userID')\\\n",
    "    .agg(avg(col('count(play period)')))\\\n",
    "    .withColumnRenamed('avg(count(play period))', 'Avg Songs Played Before Help Needed')\n",
    "    \n",
    "    # Average number of songs played before user experiences an error\n",
    "    error_sum = df.filter((df.page == 'Error') | (df.page == 'NextSong'))\\\n",
    "    .select('userId','page','ts')\\\n",
    "    .withColumn(\"error experienced\", error_occured(col('page')))\\\n",
    "    .withColumn(\"play period\", Fsum(\"error experienced\").over(windowval))\n",
    "\n",
    "    avg_song_until_error = error_sum.filter(error_sum.page == 'NextSong')\\\n",
    "    .groupBy('userID', 'play period')\\\n",
    "    .agg(count(col('play period')))\\\n",
    "    .groupBy('userID')\\\n",
    "    .agg(avg(col('count(play period)')))\\\n",
    "    .withColumnRenamed('avg(count(play period))', 'Avg Songs Played Before Error')\n",
    "    \n",
    "    df = users.join(avg_song_until_error, on='userId')\\\n",
    "    .join(thumbs_up_per_day, on='userId')\\\n",
    "    .join(thumbs_down_per_day, on='userId')\\\n",
    "    .join(errors_per_day, on='userId')\\\n",
    "    .join(help_visits_per_day, on='userId')\\\n",
    "    .join(number_of_friends, on='userId')\\\n",
    "    .join(user_level, on='userId')\\\n",
    "    .join(avg_song_until_home, on='userId')\\\n",
    "    .join(avg_song_until_help, on='userId')\\\n",
    "    .join(churned, on='userId')\n",
    "\n",
    "    return df"
   ]
  },
  {
   "cell_type": "code",
   "execution_count": 38,
   "metadata": {},
   "outputs": [],
   "source": [
    "def feature_scaling(df):\n",
    "    '''\n",
    "    This function will handle the scaling of our feature data\n",
    "    \n",
    "    Parameters => df. DF returned from calling generate_features.\n",
    "    \n",
    "    Returns => df. DF with all numeric features scaled.\n",
    "    '''\n",
    "    features = df.drop('userId', 'churned').columns\n",
    "    assembler = VectorAssembler(inputCols = features, outputCol = 'feature vec')\n",
    "    \n",
    "    # Need to update the name of our target variable\n",
    "    df = df.withColumn('label', df['churned'].cast(DoubleType()))\n",
    "    \n",
    "    # Set up our scaling object\n",
    "    minmaxscaler = MinMaxScaler(inputCol=\"feature vec\", outputCol=\"features\")\n",
    "    \n",
    "    df = assembler.transform(df)\n",
    "    minmaxscaler_model = minmaxscaler.fit(df)\n",
    "    scaled_df = minmaxscaler_model.transform(df)\n",
    "    return scaled_df\n",
    "    "
   ]
  },
  {
   "attachments": {},
   "cell_type": "markdown",
   "metadata": {},
   "source": [
    "# Modeling\n",
    "Split the full dataset into train, test, and validation sets. Test out several of the machine learning methods you learned. Evaluate the accuracy of the various models, tuning parameters as necessary. Determine your winning model based on test accuracy and report results on the validation set. Since the churned users are a fairly small subset, I suggest using F1 score as the metric to optimize."
   ]
  },
  {
   "cell_type": "code",
   "execution_count": 39,
   "metadata": {},
   "outputs": [],
   "source": [
    "# Read in the data\n",
    "data = 'mini_sparkify_event_data.json'\n",
    "df = spark.read.json(data)\n",
    "\n",
    "# Drop duplicates / Initial cleaning. \n",
    "missing_value_counter = df.dropna(how = \"any\")\n",
    "df = df.filter(df.userId != '')\n",
    "\n",
    "# Generate features, then scale the features.\n",
    "feature_df = generate_features(df)\n",
    "scaled_feature_df = feature_scaling(feature_df)"
   ]
  },
  {
   "cell_type": "code",
   "execution_count": 40,
   "metadata": {},
   "outputs": [],
   "source": [
    "# Split into training and testing data sets\n",
    "train, test = scaled_feature_df.randomSplit([.9,.1], seed = 42)"
   ]
  },
  {
   "cell_type": "code",
   "execution_count": 41,
   "metadata": {},
   "outputs": [],
   "source": [
    "# Start with a linear regression model\n",
    "lr = LogisticRegression(maxIter=10, regParam=0.0, elasticNetParam=0)\n",
    "lrModel = lr.fit(train)"
   ]
  },
  {
   "cell_type": "code",
   "execution_count": 42,
   "metadata": {},
   "outputs": [],
   "source": [
    "lr_model_pred = lrModel.transform(test)"
   ]
  },
  {
   "cell_type": "code",
   "execution_count": 43,
   "metadata": {},
   "outputs": [
    {
     "name": "stdout",
     "output_type": "stream",
     "text": [
      "15\n",
      "16\n"
     ]
    }
   ],
   "source": [
    "# What is the accuracy?\n",
    "print(lr_model_pred.filter(lr_model_pred.label == lr_model_pred.prediction).count())\n",
    "print(lr_model_pred.count())"
   ]
  },
  {
   "cell_type": "code",
   "execution_count": 44,
   "metadata": {},
   "outputs": [
    {
     "name": "stdout",
     "output_type": "stream",
     "text": [
      "0.92816091954023\n"
     ]
    }
   ],
   "source": [
    "# What is the f1 score?\n",
    "evaluator = MulticlassClassificationEvaluator(metricName='f1')\n",
    "\n",
    "f1_score = evaluator.evaluate(lr_model_pred)\n",
    "\n",
    "print(f1_score)"
   ]
  },
  {
   "cell_type": "code",
   "execution_count": 45,
   "metadata": {},
   "outputs": [
    {
     "name": "stdout",
     "output_type": "stream",
     "text": [
      "[0.7265859788392186, 0.693138991071453]\n",
      "15\n",
      "16\n"
     ]
    }
   ],
   "source": [
    "lr =  LogisticRegression(maxIter=10, regParam=0.0, elasticNetParam=0)\n",
    "pipeline = Pipeline(stages=[lr])\n",
    "\n",
    "paramGrid = ParamGridBuilder() \\\n",
    "    .addGrid(lr.regParam,[0.0, 0.1]) \\\n",
    "    .build()\n",
    "\n",
    "crossval = CrossValidator(estimator=pipeline,\n",
    "                          estimatorParamMaps=paramGrid,\n",
    "                          evaluator=MulticlassClassificationEvaluator(),\n",
    "                          numFolds=3)\n",
    "\n",
    "cvModel_q1 = crossval.fit(train)\n",
    "print(cvModel_q1.avgMetrics)\n",
    "results = cvModel_q1.transform(test)\n",
    "print(results.filter(results.label == results.prediction).count())\n",
    "print(results.count())"
   ]
  },
  {
   "cell_type": "code",
   "execution_count": 46,
   "metadata": {},
   "outputs": [
    {
     "name": "stdout",
     "output_type": "stream",
     "text": [
      "0.92816091954023\n"
     ]
    }
   ],
   "source": [
    "f1_score = evaluator.evaluate(results)\n",
    "\n",
    "print(f1_score)"
   ]
  },
  {
   "cell_type": "code",
   "execution_count": 47,
   "metadata": {},
   "outputs": [
    {
     "name": "stdout",
     "output_type": "stream",
     "text": [
      "1.0\n"
     ]
    }
   ],
   "source": [
    "# Initalize random forest classifier\n",
    "random_forest = RandomForestClassifier(numTrees=5)\n",
    "# Train the model\n",
    "random_forst_model = random_forest.fit(train)\n",
    "# Predict on the test set\n",
    "random_forest_preds = random_forst_model.transform(test)\n",
    "\n",
    "f1_score = evaluator.evaluate(random_forest_preds)\n",
    "\n",
    "print(f1_score)"
   ]
  },
  {
   "cell_type": "code",
   "execution_count": 48,
   "metadata": {},
   "outputs": [
    {
     "name": "stdout",
     "output_type": "stream",
     "text": [
      "16\n",
      "16\n"
     ]
    }
   ],
   "source": [
    "print(random_forest_preds.filter(random_forest_preds.label == random_forest_preds.prediction).count())\n",
    "print(random_forest_preds.count())"
   ]
  },
  {
   "cell_type": "code",
   "execution_count": 52,
   "metadata": {},
   "outputs": [],
   "source": [
    "# Display confusion matrix for our best model\n",
    "pred_labels = random_forest_preds.select(['label', 'prediction']).rdd\\\n",
    "                        .map(lambda line: (line[1], line[0]))\n",
    "metrics = MulticlassMetrics(pred_labels)"
   ]
  },
  {
   "cell_type": "code",
   "execution_count": 53,
   "metadata": {},
   "outputs": [
    {
     "data": {
      "text/plain": [
       "array([[ 14.,   0.],\n",
       "       [  0.,   2.]])"
      ]
     },
     "execution_count": 53,
     "metadata": {},
     "output_type": "execute_result"
    }
   ],
   "source": [
    "metrics.confusionMatrix().toArray()"
   ]
  },
  {
   "cell_type": "code",
   "execution_count": 55,
   "metadata": {},
   "outputs": [
    {
     "name": "stdout",
     "output_type": "stream",
     "text": [
      "Help Visits Per Day: 0.23651929708199795\n",
      "userId: 0.1983566393070453\n",
      "Thumbs Up Per Day: 0.1681023938344172\n",
      "Avg Songs Played Before Error: 0.15052214831290084\n",
      "paid user: 0.11303100095720894\n",
      "Avg Songs Played Before Home: 0.05771396628509738\n",
      "Errors Per Day: 0.04588779021562672\n",
      "Thumbs Down Per Day: 0.02986676400570566\n",
      "Number Of Friends: 0.0\n",
      "free user: 0.0\n"
     ]
    }
   ],
   "source": [
    "importances = random_forst_model.featureImportances\n",
    "feature_names = train.columns[:-1]  # Exclude the label column\n",
    "feature_importance_list = [(feature_name, importance) for feature_name, importance in zip(feature_names, importances)]\n",
    "feature_importance_list = sorted(feature_importance_list, key=lambda x: x[1], reverse=True)\n",
    "for feature_name, importance in feature_importance_list:\n",
    "    print(f\"{feature_name}: {importance}\")"
   ]
  },
  {
   "attachments": {},
   "cell_type": "markdown",
   "metadata": {},
   "source": [
    "# Final Steps\n",
    "Clean up your code, adding comments and renaming variables to make the code easier to read and maintain. Refer to the Spark Project Overview page and Data Scientist Capstone Project Rubric to make sure you are including all components of the capstone project and meet all expectations. Remember, this includes thorough documentation in a README file in a Github repository, as well as a web app or blog post."
   ]
  },
  {
   "cell_type": "code",
   "execution_count": null,
   "metadata": {},
   "outputs": [],
   "source": []
  },
  {
   "cell_type": "code",
   "execution_count": null,
   "metadata": {},
   "outputs": [],
   "source": []
  }
 ],
 "metadata": {
  "kernelspec": {
   "display_name": "Python 3",
   "language": "python",
   "name": "python3"
  },
  "language_info": {
   "codemirror_mode": {
    "name": "ipython",
    "version": 3
   },
   "file_extension": ".py",
   "mimetype": "text/x-python",
   "name": "python",
   "nbconvert_exporter": "python",
   "pygments_lexer": "ipython3",
   "version": "3.6.3"
  }
 },
 "nbformat": 4,
 "nbformat_minor": 2
}
